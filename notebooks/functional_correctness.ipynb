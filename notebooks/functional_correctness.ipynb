{
 "cells": [
  {
   "cell_type": "code",
   "execution_count": 17,
   "metadata": {},
   "outputs": [],
   "source": [
    "import re\n",
    "import matplotlib.pyplot as plt\n"
   ]
  },
  {
   "cell_type": "code",
   "execution_count": 45,
   "metadata": {},
   "outputs": [],
   "source": [
    "extracted_parameters = f\"\"\"\n",
    "Material: steel\n",
    "Tool Type: milling\n",
    "Operation Type: milling\n",
    "Desired Shape: custom shape\n",
    "Workpiece Dimensions: 50mm x 50mm x 10mm\n",
    "Starting Point: x=10, y=10\n",
    "Home Position: x=0, y=0, z=0\n",
    "Cutting Tool Coordinates: x=30, y=10 -> x=35, y=30 -> x=5, y=30 -> x=10, y=10\n",
    "Return Tool to Home After Execution: yes\n",
    "Coordinates: x, y\n",
    "Depth of Cut: 2mm\n",
    "Safety Instructions: ensure proper holding of workpiece during machining.\n",
    "\"\"\"\n",
    "\n",
    "params2 = f\"\"\"\n",
    "Material: steel\n",
    "Operation Type: milling\n",
    "Desired Shape: custom shape\n",
    "Workpiece Dimensions: 50mm x 50mm x 10mm\n",
    "Starting Point: x=10, y=10\n",
    "Home Position: x=0, y=0, z=0\n",
    "Cutting Tool Path: (10,10,0) -> (30,10,0) -> (25,30,0) -> (15,30,0) -> (10,10,0)\n",
    "Return Tool to Home After Execution: yes\n",
    "Depth of Cut: 2mm\n",
    "\"\"\""
   ]
  },
  {
   "cell_type": "code",
   "execution_count": 43,
   "metadata": {},
   "outputs": [],
   "source": [
    "def extract_numerical_values(parameters: dict, key: str):\n",
    "    if key in parameters:\n",
    "        # Regular expression to match numerical values\n",
    "        numbers = re.findall(r'\\d+', parameters[key])\n",
    "        # Convert the extracted numbers to float\n",
    "        numbers = list(map(float, numbers))\n",
    "    else:\n",
    "        numbers = 0 \n",
    "\n",
    "    return numbers\n",
    "\n",
    "def extract_path(parameters: dict, key: str):\n",
    "    # Regular expression to find coordinates\n",
    "    pattern = r'x=(-?\\d+\\.?\\d*), y=(-?\\d+\\.?\\d*)(?:, z=(-?\\d+\\.?\\d*))?'\n",
    "\n",
    "    # Find all matches\n",
    "    matches = re.findall(pattern, parameters[key])\n",
    "\n",
    "    # Convert matches to tuples of floats and set z to 0 if not given\n",
    "    coordinates = [(float(x), float(y), float(z) if z else 0.0) for x, y, z in matches]\n",
    "\n",
    "    return coordinates"
   ]
  },
  {
   "cell_type": "code",
   "execution_count": 46,
   "metadata": {},
   "outputs": [],
   "source": [
    "def parse_parameters(parameter_string):\n",
    "    parameters = {}\n",
    "    parsed_parameters = {}\n",
    "    for line in parameter_string.splitlines():\n",
    "        if \": \" in line:\n",
    "            key, value = line.split(\": \", 1)\n",
    "            parameters[key.strip()] = value.strip()\n",
    "\n",
    "    parsed_parameters['workpiece_diemensions'] = extract_numerical_values(parameters=parameters, key='Workpiece Dimensions') \n",
    "    parsed_parameters['starting_point'] = extract_numerical_values(parameters=parameters, key='Starting Point') \n",
    "    parsed_parameters['home_position'] = extract_numerical_values(parameters=parameters, key='Home Position') \n",
    "    parsed_parameters['tool_path'] = extract_path(parameters=parameters, key='Cutting Tool Path')\n",
    "    parsed_parameters['cut_depth'] = extract_numerical_values(parameters=parameters, key='Depth of Cut') \n",
    "\n",
    "    return parsed_parameters"
   ]
  },
  {
   "cell_type": "code",
   "execution_count": 47,
   "metadata": {},
   "outputs": [
    {
     "name": "stdout",
     "output_type": "stream",
     "text": [
      "{'workpiece_diemensions': [50.0, 50.0, 10.0], 'starting_point': [10.0, 10.0], 'home_position': [0.0, 0.0, 0.0], 'tool_path': [], 'cut_depth': [2.0]}\n"
     ]
    }
   ],
   "source": [
    "parsed_parameters = parse_parameters(params2)\n",
    "print(parsed_parameters)"
   ]
  },
  {
   "cell_type": "markdown",
   "metadata": {},
   "source": []
  },
  {
   "cell_type": "code",
   "execution_count": 33,
   "metadata": {},
   "outputs": [],
   "source": [
    "def plot_cnc_task_2d(parsed_parameters):\n",
    "    \"\"\"Plots the CNC task in 2D.\"\"\"\n",
    "\n",
    "    wp_dims = parsed_parameters['workpiece_diemensions']\n",
    "    start_point = parsed_parameters['starting_point']\n",
    "    tool_path = parsed_parameters['tool_path']\n",
    "    cut_depth = parsed_parameters['cut_depth'][0]\n",
    "\n",
    "    fig, ax = plt.subplots(figsize=(8, 6))\n",
    "\n",
    "    # Plot workpiece as a rectangle\n",
    "    rect = plt.Rectangle((0, 0), wp_dims[0], wp_dims[1], \n",
    "                         linewidth=2, edgecolor='k', facecolor='lightgray')\n",
    "    ax.add_patch(rect)\n",
    "\n",
    "    # Plot tool path\n",
    "    x_path, y_path, _ = zip(*tool_path)  # Ignore z-coordinates for 2D plot\n",
    "\n",
    "    # Move to starting point if not already at the beginning\n",
    "    if tool_path and (start_point[0], start_point[1]) != tool_path[0]:\n",
    "        x_path = (start_point[0],) + x_path\n",
    "        y_path = (start_point[1],) + y_path\n",
    "\n",
    "    ax.plot(x_path, y_path, 'r-', linewidth=2, label='Tool Path')\n",
    "\n",
    "    ax.set_xlabel('X (mm)')\n",
    "    ax.set_ylabel('Y (mm)')\n",
    "    ax.set_title('CNC Task Visualization (2D)')\n",
    "    ax.legend()\n",
    "\n",
    "    # Set axis limits to match workpiece dimensions\n",
    "    ax.set_xlim([0, wp_dims[0]])\n",
    "    ax.set_ylim([0, wp_dims[1]])\n",
    "\n",
    "    # Add cut depth as text annotation\n",
    "    ax.text(0.05, 0.95, f'Cut Depth: {cut_depth}mm', \n",
    "            transform=ax.transAxes, verticalalignment='top')\n",
    "\n",
    "    plt.gca().set_aspect('equal', adjustable='box')  # Equal aspect ratio\n",
    "    plt.show()"
   ]
  },
  {
   "cell_type": "code",
   "execution_count": 34,
   "metadata": {},
   "outputs": [
    {
     "data": {
      "image/png": "[encoded data removed]",
      "text/plain": [
       "<Figure size 800x600 with 1 Axes>"
      ]
     },
     "metadata": {},
     "output_type": "display_data"
    }
   ],
   "source": [
    "plot_cnc_task_2d(parsed_parameters)\n"
   ]
  },
  {
   "cell_type": "code",
   "execution_count": 3,
   "metadata": {},
   "outputs": [
    {
     "name": "stdout",
     "output_type": "stream",
     "text": [
      "[(10, 10), (10, 30), (35, 30), (5, 30), (10, 10)]\n",
      "[(10, 10), (10, 30), (35, 30), (5, 30), (10, 10)]\n"
     ]
    }
   ],
   "source": [
    "import itertools\n",
    "\n",
    "list_1 = [(10,10), (10,10), (10,30), (35,30), (5,30), (10, 10)]\n",
    "\n",
    "list_2 = [(10,10), (10,30), (10,30), (35,30), (5,30), (10, 10), (10, 10)]\n",
    "\n",
    "list_1 = [k for k, _ in itertools.groupby(list_1)]\n",
    "list_2 = [k for k, _ in itertools.groupby(list_2)]\n",
    "print(list_1)\n",
    "print(list_2)"
   ]
  },
  {
   "cell_type": "code",
   "execution_count": null,
   "metadata": {},
   "outputs": [],
   "source": [
    "Here's a completion of the `validate_functional_correctness` function that compares the two tool paths while considering potential repeated tuples and different list lengths:\n",
    "\n",
    "```python\n",
    "def validate_functional_correctness(gcode_string):\n",
    "    x_points, y_points = parse_gcode(gcode_string)\n",
    "    gcode_tool_path = [(x,y) for x, y in zip(x_points, y_points)]\n",
    "\n",
    "    if st.session_state['parsed_parameters'] is not None:\n",
    "        user_defined_start_point = st.session_state['parsed_parameters']['starting_point']\n",
    "        tool_path = st.session_state['parsed_parameters']['tool_path']\n",
    "\n",
    "        # Plot tool path\n",
    "        x_path, y_path, _ = zip(*tool_path)  # Ignore z-coordinates for 2D plot\n",
    "\n",
    "        # Move to starting point if not already at the beginning\n",
    "        if tool_path and (user_defined_start_point[0], user_defined_start_point[1]) != tool_path[0]:\n",
    "            x_path = (user_defined_start_point[0],) + x_path\n",
    "            y_path = (user_defined_start_point[1],) + y_path\n",
    "\n",
    "        user_defined_tool_path = [(x,y) for x, y in zip(x_path, y_path)]\n",
    "\n",
    "        # Remove consecutive duplicates from both paths\n",
    "        gcode_tool_path = [k for k, _ in itertools.groupby(gcode_tool_path)]\n",
    "        user_defined_tool_path = [k for k, _ in itertools.groupby(user_defined_tool_path)]\n",
    "\n",
    "        # Calculate the Hausdorff distance between the two paths\n",
    "        def hausdorff_distance(path1, path2):\n",
    "            def point_distance(p1, p2):\n",
    "                return ((p1[0] - p2[0])**2 + (p1[1] - p2[1])**2)**0.5\n",
    "\n",
    "            def directed_hausdorff(path_a, path_b):\n",
    "                return max(min(point_distance(a, b) for b in path_b) for a in path_a)\n",
    "\n",
    "            return max(directed_hausdorff(path1, path2), directed_hausdorff(path2, path1))\n",
    "\n",
    "        distance = hausdorff_distance(gcode_tool_path, user_defined_tool_path)\n",
    "\n",
    "        # Define a tolerance for the Hausdorff distance\n",
    "        tolerance = 0.1  # Adjust this value based on your requirements\n",
    "\n",
    "        if distance <= tolerance:\n",
    "            return True, f\"Tool paths match within tolerance. Hausdorff distance: {distance:.4f}\"\n",
    "        else:\n",
    "            return False, f\"Tool paths do not match. Hausdorff distance: {distance:.4f}\"\n",
    "\n",
    "    return False, \"Unable to compare tool paths. Missing user-defined parameters.\"\n",
    "```\n",
    "\n",
    "This completion adds the following functionality:\n",
    "\n",
    "1. It removes consecutive duplicates from both tool paths using `itertools.groupby()`. This addresses the issue of repeated tuples in the lists.\n",
    "\n",
    "2. It implements the Hausdorff distance calculation to compare the two paths. The Hausdorff distance measures how far two subsets of a metric space are from each other. It's particularly useful for comparing paths that may have different lengths or slight deviations.\n",
    "\n",
    "3. It defines a tolerance value for the Hausdorff distance. You can adjust this value based on how strict you want the comparison to be.\n",
    "\n",
    "4. The function returns a boolean indicating whether the paths match within the tolerance, along with a message providing more details.\n",
    "\n",
    "This approach allows for a meaningful comparison of the two tool paths even when they have different lengths or slight variations. The Hausdorff distance provides a measure of similarity that's more robust than a simple point-by-point comparison.\n",
    "\n",
    "Would you like me to explain any part of this code in more detail?"
   ]
  }
 ],
 "metadata": {
  "kernelspec": {
   "display_name": "gllm-Z7QQw8HW-py3.11",
   "language": "python",
   "name": "python3"
  },
  "language_info": {
   "codemirror_mode": {
    "name": "ipython",
    "version": 3
   },
   "file_extension": ".py",
   "mimetype": "text/x-python",
   "name": "python",
   "nbconvert_exporter": "python",
   "pygments_lexer": "ipython3",
   "version": "3.11.9"
  }
 },
 "nbformat": 4,
 "nbformat_minor": 2
}
