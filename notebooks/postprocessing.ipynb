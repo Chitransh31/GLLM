{
 "cells": [
  {
   "cell_type": "code",
   "execution_count": 10,
   "metadata": {},
   "outputs": [],
   "source": [
    "\n",
    "gcode_string = f\"\"\"G17  ; Select XY plane\n",
    "G90  ; Absolute positioning\n",
    "M06 T1  ; Tool change to tool 1\n",
    "M03  ; Spindle on clockwise\n",
    "G00 X10 Y10 Z0  ; Rapid positioning to starting point\n",
    "G01 Z0 F100  ; Move down to a depth of cut at feed rate of 100 mm/min\n",
    "G01 X30 Y10  ; Linear interpolation to (30,10)\n",
    "G01 X50 Y30  ; Linear interpolation to (50,30)\n",
    "G01 X0 Y30  ; Linear interpolation to (0,30)\n",
    "G01 X10 Y10  ; Linear interpolation back to starting point\n",
    "G00 Z5  ; Raise the tool above the workpiece\n",
    "M05  ; Spindle stop\n",
    "G28  ; Return to home position\n",
    "M30  ; Program end and reset\"\"\""
   ]
  },
  {
   "cell_type": "code",
   "execution_count": 11,
   "metadata": {},
   "outputs": [
    {
     "name": "stdout",
     "output_type": "stream",
     "text": [
      "G17  ; Select XY plane\n",
      "G90  ; Absolute positioning\n",
      "M06 T1  ; Tool change to tool 1\n",
      "M03  ; Spindle on clockwise\n",
      "G00 X10 Y10 Z0  ; Rapid positioning to starting point\n",
      "G01 Z0 F100  ; Move down to a depth of cut at feed rate of 100 mm/min\n",
      "G01 X30 Y10  ; Linear interpolation to (30,10)\n",
      "G01 X50 Y30  ; Linear interpolation to (50,30)\n",
      "G01 X0 Y30  ; Linear interpolation to (0,30)\n",
      "G01 X10 Y10  ; Linear interpolation back to starting point\n",
      "G00 Z5  ; Raise the tool above the workpiece\n",
      "M05  ; Spindle stop\n",
      "G28  ; Return to home position\n",
      "M30  ; Program end and reset\n"
     ]
    }
   ],
   "source": [
    "from pygcode import Line, Word\n",
    "\n",
    "def limit_cut_depth(gcode_string, max_depth):\n",
    "    # Split the G-code string into lines\n",
    "    gcode_lines = gcode_string.split('\\n')\n",
    "    \n",
    "    # Initialize variables\n",
    "    current_z = 0\n",
    "    modified = False\n",
    "    \n",
    "    # Process each line\n",
    "    for i, line_str in enumerate(gcode_lines):\n",
    "        try:\n",
    "            line = Line(line_str)\n",
    "            \n",
    "            # Check for Z movement\n",
    "            z_word = next((word for word in line.block.words if word.letter == 'Z'), None)\n",
    "            if z_word is not None:\n",
    "                z_value = z_word.value\n",
    "                # If Z value is negative (cutting) and exceeds max depth\n",
    "                if z_value < 0 and abs(z_value) > max_depth:\n",
    "                    # Modify the Z value\n",
    "                    new_z_word = Word('Z', -max_depth)\n",
    "                    new_words = [word if word.letter != 'Z' else new_z_word for word in line.block.words]\n",
    "                    line.block.words = new_words\n",
    "                    gcode_lines[i] = str(line)\n",
    "                    modified = True\n",
    "                current_z = z_value\n",
    "        except ValueError:\n",
    "            # Skip lines that can't be parsed (e.g., comments)\n",
    "            pass\n",
    "    \n",
    "    # If modifications were made, return the new G-code\n",
    "    if modified:\n",
    "        return '\\n'.join(gcode_lines)\n",
    "    else:\n",
    "        return gcode_string\n",
    "\n",
    "# Example usage\n",
    "max_depth = 10  # Set your desired maximum depth\n",
    "modified_gcode = limit_cut_depth(gcode_string, max_depth)\n",
    "print(modified_gcode)"
   ]
  },
  {
   "cell_type": "code",
   "execution_count": null,
   "metadata": {},
   "outputs": [],
   "source": []
  }
 ],
 "metadata": {
  "kernelspec": {
   "display_name": "gllm-Z7QQw8HW-py3.11",
   "language": "python",
   "name": "python3"
  },
  "language_info": {
   "codemirror_mode": {
    "name": "ipython",
    "version": 3
   },
   "file_extension": ".py",
   "mimetype": "text/x-python",
   "name": "python",
   "nbconvert_exporter": "python",
   "pygments_lexer": "ipython3",
   "version": "3.11.9"
  }
 },
 "nbformat": 4,
 "nbformat_minor": 2
}
