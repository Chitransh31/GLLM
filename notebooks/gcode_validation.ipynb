{
 "cells": [
  {
   "cell_type": "code",
   "execution_count": 10,
   "metadata": {},
   "outputs": [],
   "source": [
    "from shapely import Polygon\n",
    "from gllm.utils.plot_utils import parse_gcode\n",
    "from shapely.measurement import area, bounds\n",
    "from shapely.predicates import is_closed, is_geometry, equals, is_valid_reason\n"
   ]
  },
  {
   "cell_type": "code",
   "execution_count": null,
   "metadata": {},
   "outputs": [],
   "source": [
    "def evaluate_gcode(gcode_string):\n",
    "    # ... (Get shape information from the user)\n",
    "\n",
    "    # --- Polygon Input ---\n",
    "    while True:\n",
    "        try:\n",
    "            polygon_points_str = input(\"Enter polygon vertices as x,y pairs separated by spaces (e.g., '0,0 10,0 10,10 0,10'): \")\n",
    "            polygon_points = [(float(p.split(',')[0]), float(p.split(',')[1])) for p in polygon_points_str.split()]\n",
    "            shape = Polygon(polygon_points)\n",
    "            if not shape.is_valid:\n",
    "                raise ValueError(\"Invalid polygon. Ensure it doesn't self-intersect.\")\n",
    "            break  # Exit loop if polygon is valid\n",
    "        except ValueError as e:\n",
    "            print(f\"Error: {e}\")"
   ]
  },
  {
   "cell_type": "code",
   "execution_count": null,
   "metadata": {},
   "outputs": [],
   "source": [
    "gcode_square =  f\"\"\"\n",
    "G17  ; Select XY plane\n",
    "G28  ; Return to home position\n",
    "M03  ; Spindle on clockwise\n",
    "G00 X15 Y15 Z0  ; Rapid positioning to starting point\n",
    "G01 Z-2 F100  ; Move down to cutting depth\n",
    "G01 X35  ; Move horizontally to create the first side\n",
    "G01 Y35  ; Move vertically to create the second side\n",
    "G01 X15  ; Move horizontally to create the third side\n",
    "G01 Y15  ; Move back to the starting point to finish the square\n",
    "G00 Z5  ; Raise the tool\n",
    "M05  ; Spindle stop\n",
    "G28  ; Return to home position\n",
    "M30  ; Program end and reset\n",
    "\"\"\""
   ]
  },
  {
   "cell_type": "code",
   "execution_count": 2,
   "metadata": {},
   "outputs": [],
   "source": [
    "# Closed-from shape\n",
    "gcode1 = f\"\"\"\n",
    "G17  ; Select XY plane\n",
    "G28  ; Return to home position\n",
    "M03  ; Spindle on clockwise\n",
    "G00 X10 Y10  ; Rapid move to starting point\n",
    "G01 Z-2 F100  ; Move to cutting depth\n",
    "G01 X30 Y10  ; Start milling custom shape\n",
    "G01 X35 Y30\n",
    "G01 X5 Y30\n",
    "G01 X10 Y10\n",
    "G01 Z0  ; Raise the tool\n",
    "G00 X0 Y0  ; Return tool to home position\n",
    "M05  ; Spindle stop\n",
    "M30  ; Program end and reset\n",
    "\"\"\""
   ]
  },
  {
   "cell_type": "code",
   "execution_count": 5,
   "metadata": {},
   "outputs": [],
   "source": [
    "# open-form shape\n",
    "gcode2 = f\"\"\"\n",
    "G17\n",
    "G00 Z5.0\n",
    "G00 X10 Y10\n",
    "G01 Z-2 F100\n",
    "G01 X30 Y10\n",
    "G01 X35 Y30\n",
    "G01 X5 Y30\n",
    "G00 Z5.0\n",
    "G00 X0 Y0\n",
    "M30\n",
    "\"\"\""
   ]
  },
  {
   "cell_type": "code",
   "execution_count": 12,
   "metadata": {},
   "outputs": [
    {
     "name": "stdout",
     "output_type": "stream",
     "text": [
      "rapid positioning G00 X10 Y10\n",
      "G00 X10 Y10 10.0 10.0\n",
      "linear interpolation G01 Z-2 F100\n",
      "G01 Z-2 F100 10.0 10.0\n",
      "linear interpolation G01 X30 Y10\n",
      "G01 X30 Y10 10.0 10.0\n",
      "linear interpolation G01 X35 Y30\n",
      "G01 X35 Y30 30.0 10.0\n",
      "linear interpolation G01 X5 Y30\n",
      "G01 X5 Y30 35.0 30.0\n",
      "linear interpolation G01 X10 Y10\n",
      "G01 X10 Y10 5.0 30.0\n",
      "linear interpolation G01 Z0\n",
      "G01 Z0 10.0 10.0\n",
      "rapid positioning G00 X0 Y0\n",
      "G00 X0 Y0 0.0 0.0\n",
      "[(10.0, 10.0), (10.0, 10.0), (30.0, 10.0), (35.0, 30.0), (5.0, 30.0), (10.0, 10.0), (10.0, 10.0), (0.0, 0.0)]\n",
      "POLYGON ((10 10, 10 10, 30 10, 35 30, 5 30, 10 10, 10 10, 0 0, 10 10))\n"
     ]
    }
   ],
   "source": [
    "# Create Shape for gcode1\n",
    "x_points, y_points = [], []\n",
    "x_points, y_points = parse_gcode(gcode1)\n",
    "vertices1 = []\n",
    "\n",
    "for x, y in zip(x_points, y_points):\n",
    "    vertices1.append((x, y))\n",
    "\n",
    "shape1 = Polygon(vertices1)  # Create a Shapely Polygon from the vertices\n",
    "print(vertices1)\n",
    "print(shape1)"
   ]
  },
  {
   "cell_type": "code",
   "execution_count": 15,
   "metadata": {},
   "outputs": [
    {
     "name": "stdout",
     "output_type": "stream",
     "text": [
      "rapid positioning G00 Z5.0\n",
      "G00 Z5.0 0 0\n",
      "rapid positioning G00 X10 Y10\n",
      "G00 X10 Y10 10.0 10.0\n",
      "linear interpolation G01 Z-2 F100\n",
      "G01 Z-2 F100 10.0 10.0\n",
      "linear interpolation G01 X30 Y10\n",
      "G01 X30 Y10 10.0 10.0\n",
      "linear interpolation G01 X35 Y30\n",
      "G01 X35 Y30 30.0 10.0\n",
      "linear interpolation G01 X5 Y30\n",
      "G01 X5 Y30 35.0 30.0\n",
      "rapid positioning G00 Z5.0\n",
      "G00 Z5.0 5.0 30.0\n",
      "rapid positioning G00 X0 Y0\n",
      "G00 X0 Y0 0.0 0.0\n",
      "[(0, 0), (10.0, 10.0), (10.0, 10.0), (30.0, 10.0), (35.0, 30.0), (5.0, 30.0), (5.0, 30.0), (0.0, 0.0)]\n",
      "POLYGON ((0 0, 10 10, 10 10, 30 10, 35 30, 5 30, 5 30, 0 0))\n"
     ]
    }
   ],
   "source": [
    "# Create Shape for gcode2\n",
    "\n",
    "x_points, y_points = parse_gcode(gcode2)\n",
    "vertices2 = []\n",
    "\n",
    "for x, y in zip(x_points, y_points):\n",
    "    vertices2.append((x, y))\n",
    "\n",
    "shape2 = Polygon(vertices2)  # Create a Shapely Polygon from the vertices\n",
    "print(vertices2)\n",
    "print(shape2)"
   ]
  },
  {
   "cell_type": "code",
   "execution_count": 11,
   "metadata": {},
   "outputs": [
    {
     "name": "stdout",
     "output_type": "stream",
     "text": [
      "shape 1:  Ring Self-intersection[10 10]\n",
      "shape 2:  Valid Geometry\n"
     ]
    }
   ],
   "source": [
    "print(\"shape 1: \", is_valid_reason(shape1))\n",
    "print(\"shape 2: \", is_valid_reason(shape2))"
   ]
  },
  {
   "cell_type": "code",
   "execution_count": 4,
   "metadata": {},
   "outputs": [
    {
     "name": "stdout",
     "output_type": "stream",
     "text": [
      "POLYGON ((10 10, 10 10, 30 10, 35 30, 5 30, 10 10, 10 10, 0 0, 10 10))\n"
     ]
    }
   ],
   "source": [
    "print(shape1)"
   ]
  },
  {
   "cell_type": "code",
   "execution_count": 8,
   "metadata": {},
   "outputs": [
    {
     "name": "stdout",
     "output_type": "stream",
     "text": [
      "POLYGON ((0 0, 10 10, 10 10, 30 10, 35 30, 5 30, 5 30, 0 0))\n"
     ]
    }
   ],
   "source": [
    "print(shape2)"
   ]
  },
  {
   "cell_type": "code",
   "execution_count": 9,
   "metadata": {},
   "outputs": [
    {
     "name": "stdout",
     "output_type": "stream",
     "text": [
      "[(0, 0), (10.0, 10.0), (10.0, 10.0), (30.0, 10.0), (35.0, 30.0), (5.0, 30.0), (5.0, 30.0), (0.0, 0.0)]\n"
     ]
    }
   ],
   "source": [
    "print(vertices2)"
   ]
  },
  {
   "cell_type": "code",
   "execution_count": null,
   "metadata": {},
   "outputs": [],
   "source": []
  }
 ],
 "metadata": {
  "kernelspec": {
   "display_name": "gllm-Z7QQw8HW-py3.11",
   "language": "python",
   "name": "python3"
  },
  "language_info": {
   "codemirror_mode": {
    "name": "ipython",
    "version": 3
   },
   "file_extension": ".py",
   "mimetype": "text/x-python",
   "name": "python",
   "nbconvert_exporter": "python",
   "pygments_lexer": "ipython3",
   "version": "3.11.9"
  }
 },
 "nbformat": 4,
 "nbformat_minor": 2
}
